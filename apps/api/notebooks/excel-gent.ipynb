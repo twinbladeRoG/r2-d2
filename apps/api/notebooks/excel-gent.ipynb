{
 "cells": [
  {
   "cell_type": "code",
   "execution_count": 2,
   "id": "fa23e153",
   "metadata": {},
   "outputs": [],
   "source": [
    "from dotenv import load_dotenv\n",
    "from IPython.display import Image, display\n",
    "from langchain_deepseek import ChatDeepSeek\n",
    "from langgraph.graph import END, START, StateGraph"
   ]
  },
  {
   "cell_type": "code",
   "execution_count": 3,
   "id": "eca85230",
   "metadata": {},
   "outputs": [
    {
     "name": "stdout",
     "output_type": "stream",
     "text": [
      "http://localhost:8090\n"
     ]
    }
   ],
   "source": [
    "import sys\n",
    "\n",
    "sys.path.append(\"../../\")\n",
    "\n",
    "load_dotenv(\"../.env\")\n",
    "\n",
    "from api.core.config import settings\n",
    "\n",
    "print(settings.LLM_HOST)"
   ]
  },
  {
   "cell_type": "code",
   "execution_count": 4,
   "id": "2910cadd",
   "metadata": {},
   "outputs": [],
   "source": [
    "llm = ChatDeepSeek(\n",
    "    api_base=f\"http://localhost:8090/v1\",\n",
    "    api_key=\"sk-no-key-required\",\n",
    "    model=\"deepseek-coder:latest\",\n",
    "    temperature=0,\n",
    "    max_tokens=None,\n",
    "    timeout=None,\n",
    "    max_retries=2,\n",
    ")\n"
   ]
  },
  {
   "cell_type": "code",
   "execution_count": 5,
   "id": "37b639b0",
   "metadata": {},
   "outputs": [],
   "source": [
    "from typing import Annotated\n",
    "\n",
    "from langgraph.graph.message import add_messages\n",
    "from typing_extensions import TypedDict\n",
    "\n",
    "\n",
    "class State(TypedDict):\n",
    "    messages: Annotated[list, add_messages]\n",
    "    file_id: str | None = None\n",
    "    dataframe: dict"
   ]
  },
  {
   "cell_type": "code",
   "execution_count": 6,
   "id": "d01458f7",
   "metadata": {},
   "outputs": [],
   "source": [
    "from api.dependencies import get_db\n",
    "from api.models import User\n",
    "from api.modules.file_storage.service import FileStorageService\n",
    "from api.modules.graph_agent.agents.excel_agent.nodes.chatbot import ChatBotNode\n",
    "from api.modules.graph_agent.agents.excel_agent.nodes.convert_to_dataframe import (\n",
    "    ConvertToDataFrameNode,\n",
    ")\n",
    "from api.modules.graph_agent.agents.excel_agent.nodes.file_router import FileRouterNode\n",
    "from api.modules.graph_agent.agents.excel_agent.nodes.file_select import FileSelectNode\n",
    "\n",
    "session = next(get_db())\n",
    "user = session.get(User, \"b51e6baf-359a-482b-8d80-525a700bd5fd\")\n",
    "file_service = FileStorageService()\n",
    "\n",
    "chatbot = ChatBotNode()\n",
    "file_router = FileRouterNode()\n",
    "file_select = FileSelectNode()\n",
    "\n",
    "convert_to_dataframe = ConvertToDataFrameNode(\n",
    "    services={\"user\": user, \"session\": session, \"file_storage\": file_service}\n",
    ")"
   ]
  },
  {
   "cell_type": "code",
   "execution_count": 7,
   "id": "b3fef0d1",
   "metadata": {},
   "outputs": [
    {
     "data": {
      "image/png": "[encoded data removed]",
      "text/plain": [
       "<IPython.core.display.Image object>"
      ]
     },
     "metadata": {},
     "output_type": "display_data"
    }
   ],
   "source": [
    "from langgraph.checkpoint.memory import MemorySaver\n",
    "\n",
    "graph_builder = StateGraph(State)\n",
    "\n",
    "graph_builder.add_node(\"file_select\", file_select)\n",
    "graph_builder.add_node(\"chatbot\", chatbot)\n",
    "# graph_builder.add_node(\"convert_to_dataframe\", convert_to_dataframe)\n",
    "\n",
    "graph_builder.add_conditional_edges(\n",
    "    START, file_router, {True: \"chatbot\", False: \"file_select\"}\n",
    ")\n",
    "graph_builder.add_edge(\"file_select\", \"chatbot\")\n",
    "# graph_builder.add_edge(\"convert_to_dataframe\", \"chatbot\")\n",
    "graph_builder.add_edge(\"chatbot\", END)\n",
    "\n",
    "memory = MemorySaver()\n",
    "graph = graph_builder.compile(checkpointer=memory)\n",
    "\n",
    "display(Image(graph.get_graph().draw_mermaid_png()))"
   ]
  },
  {
   "cell_type": "code",
   "execution_count": 8,
   "id": "904968d5",
   "metadata": {},
   "outputs": [
    {
     "name": "stdout",
     "output_type": "stream",
     "text": [
      "Thread ID: \t eb16597d-6881-42b9-b9ef-0dbef75e07dd\n",
      "> STATE:\n",
      " ()\n",
      "> MEMORY:\n",
      " None\n",
      "####################\n",
      "\n",
      " FLE SMS:\n",
      " [HumanMessage(content='Hi', additional_kwargs={}, response_metadata={}, id='54f73d4b-aba2-4bf0-96b6-f1374c012db6')]\n",
      ">> NO FILE, start Interrupt\n",
      "> NODE: '__interrupt__'\n",
      "> STATE:\n",
      " ('file_select',)\n",
      "> MEMORY:\n",
      " {'v': 2, 'ts': '2025-05-31T07:04:09.242314+00:00', 'id': '1f03ded7-2e1b-6440-8000-93f2d9c2eaca', 'channel_versions': {'__start__': '00000000000000000000000000000002.0.8493491295574896', 'messages': '00000000000000000000000000000002.0.8320024613118923', 'branch:__start__:condition:file_select': '00000000000000000000000000000002.0.9685252926602569'}, 'versions_seen': {'__input__': {}, '__start__': {'__start__': '00000000000000000000000000000001.0.5559642999741177'}}, 'channel_values': {'messages': [HumanMessage(content='Hi', additional_kwargs={}, response_metadata={}, id='54f73d4b-aba2-4bf0-96b6-f1374c012db6')], 'branch:__start__:condition:file_select': '__start__'}, 'pending_sends': []}\n",
      "####################\n"
     ]
    }
   ],
   "source": [
    "from uuid import uuid4\n",
    "\n",
    "thread_id = uuid4()\n",
    "print(\"Thread ID: \\t\", thread_id)\n",
    "\n",
    "config = {\"configurable\": {\"thread_id\": thread_id}}\n",
    "\n",
    "\n",
    "def print_state():\n",
    "    state = graph.get_state(config)\n",
    "    print(\"> STATE:\\n\", state.next)\n",
    "    checkpt = memory.get(config=config)\n",
    "    print(\"> MEMORY:\\n\", checkpt)\n",
    "    print(\"#\" * 20)\n",
    "\n",
    "\n",
    "print_state()\n",
    "\n",
    "\n",
    "events = graph.stream(\n",
    "    {\"messages\": [{\"role\": \"user\", \"content\": \"Hi\"}]},\n",
    "    config,\n",
    "    stream_mode=\"updates\",\n",
    ")\n",
    "\n",
    "for event in events:\n",
    "    for node, event_value in event.items():\n",
    "        print(f\"> NODE: '{node}'\")\n",
    "\n",
    "\n",
    "print_state()\n"
   ]
  },
  {
   "cell_type": "code",
   "execution_count": 9,
   "id": "b21d4aff",
   "metadata": {},
   "outputs": [
    {
     "name": "stdout",
     "output_type": "stream",
     "text": [
      "Thread ID: \t eb16597d-6881-42b9-b9ef-0dbef75e07dd\n",
      "> STATE:\n",
      " ('file_select',)\n",
      "> MEMORY:\n",
      " {'v': 2, 'ts': '2025-05-31T07:04:09.242314+00:00', 'id': '1f03ded7-2e1b-6440-8000-93f2d9c2eaca', 'channel_versions': {'__start__': '00000000000000000000000000000002.0.8493491295574896', 'messages': '00000000000000000000000000000002.0.8320024613118923', 'branch:__start__:condition:file_select': '00000000000000000000000000000002.0.9685252926602569'}, 'versions_seen': {'__input__': {}, '__start__': {'__start__': '00000000000000000000000000000001.0.5559642999741177'}}, 'channel_values': {'messages': [HumanMessage(content='Hi', additional_kwargs={}, response_metadata={}, id='54f73d4b-aba2-4bf0-96b6-f1374c012db6')], 'branch:__start__:condition:file_select': '__start__'}, 'pending_sends': []}\n",
      "####################\n",
      "> STATE:\n",
      " ('file_select',)\n",
      "> MEMORY:\n",
      " {'v': 2, 'ts': '2025-05-31T07:04:09.242314+00:00', 'id': '1f03ded7-2e1b-6440-8000-93f2d9c2eaca', 'channel_versions': {'__start__': '00000000000000000000000000000002.0.8493491295574896', 'messages': '00000000000000000000000000000002.0.8320024613118923', 'branch:__start__:condition:file_select': '00000000000000000000000000000002.0.9685252926602569'}, 'versions_seen': {'__input__': {}, '__start__': {'__start__': '00000000000000000000000000000001.0.5559642999741177'}}, 'channel_values': {'messages': [HumanMessage(content='Hi', additional_kwargs={}, response_metadata={}, id='54f73d4b-aba2-4bf0-96b6-f1374c012db6')], 'branch:__start__:condition:file_select': '__start__'}, 'pending_sends': []}\n",
      "####################\n",
      "\n",
      " FLE SMS:\n",
      " [HumanMessage(content='Hi', additional_kwargs={}, response_metadata={}, id='54f73d4b-aba2-4bf0-96b6-f1374c012db6')]\n",
      ">> NO FILE, start Interrupt\n",
      "GOT Interrupt return 41b233bc-615e-4078-9f87-6f7cfee34fd5\n",
      "> NODE: 'file_select'\n",
      "\n",
      " MESSAGE:\t 1\n",
      "================================\u001b[1m Human Message \u001b[0m=================================\n",
      "\n",
      "Hi\n",
      "None\n",
      "----------------------------------------\n",
      "> NODE: 'chatbot'\n",
      "> STATE:\n",
      " ()\n",
      "> MEMORY:\n",
      " {'v': 2, 'ts': '2025-05-31T07:04:36.675373+00:00', 'id': '1f03ded8-33ba-6880-8002-2041f2cf3521', 'channel_versions': {'__start__': '00000000000000000000000000000002.0.8493491295574896', 'messages': '00000000000000000000000000000004.0.4023661979753388', 'branch:__start__:condition:file_select': '00000000000000000000000000000003.0.4517505165753811', 'file_id': '00000000000000000000000000000003.0.3967216672678806', 'file_select': '00000000000000000000000000000004.0.010120250348737203', 'chatbot': '00000000000000000000000000000004.0.57179272069959'}, 'versions_seen': {'__input__': {}, '__start__': {'__start__': '00000000000000000000000000000001.0.5559642999741177'}, '__interrupt__': {'messages': '00000000000000000000000000000002.0.8320024613118923', '__start__': '00000000000000000000000000000002.0.8493491295574896', 'branch:__start__:condition:file_select': '00000000000000000000000000000002.0.9685252926602569'}, 'file_select': {'branch:__start__:condition:file_select': '00000000000000000000000000000002.0.9685252926602569'}, 'chatbot': {'file_select': '00000000000000000000000000000003.0.6190359538003376'}}, 'channel_values': {'messages': [HumanMessage(content='Hi', additional_kwargs={}, response_metadata={}, id='54f73d4b-aba2-4bf0-96b6-f1374c012db6'), AIMessage(content='<think>\\nOkay, the user said \"Hi\". I need to respond appropriately. Since it\\'s a greeting, I should reply with a friendly greeting. Maybe \"Hello! How can I assist you today?\" That\\'s standard and open-ended. Let me check if there\\'s any context I\\'m missing. No, the user just said Hi. So the response should be welcoming and offer help. I think that\\'s all.\\n</think>\\n\\nHello! How can I assist you today? 😊', additional_kwargs={'refusal': None}, response_metadata={'token_usage': {'completion_tokens': 98, 'prompt_tokens': 9, 'total_tokens': 107, 'completion_tokens_details': None, 'prompt_tokens_details': None}, 'model_name': 'deepseek-coder:latest', 'system_fingerprint': 'b5122-e59ea539', 'id': 'chatcmpl-2NKcSMV6KWC2yq3gLxue0ODssl3qjaWb', 'finish_reason': 'stop', 'logprobs': None}, id='run-7fe12bff-d713-4275-8090-ec04e8aebe26-0', usage_metadata={'input_tokens': 9, 'output_tokens': 98, 'total_tokens': 107, 'input_token_details': {}, 'output_token_details': {}})], 'file_id': '41b233bc-615e-4078-9f87-6f7cfee34fd5', 'chatbot': 'chatbot'}, 'pending_sends': []}\n",
      "####################\n"
     ]
    }
   ],
   "source": [
    "from langgraph.types import Command\n",
    "\n",
    "print(\"Thread ID: \\t\", thread_id)\n",
    "\n",
    "print_state()\n",
    "\n",
    "events = graph.stream(\n",
    "    Command(resume=\"41b233bc-615e-4078-9f87-6f7cfee34fd5\"),\n",
    "    config,\n",
    "    stream_mode=\"updates\",\n",
    ")\n",
    "\n",
    "print_state()\n",
    "\n",
    "for event in events:\n",
    "    for node, event_value in event.items():\n",
    "        print(f\"> NODE: '{node}'\")\n",
    "        # if len(event_value.get(\"messages\", [])) > 0:\n",
    "        #     print(event_value.get(\"messages\")[-1].pretty_print())\n",
    "\n",
    "\n",
    "print_state()\n"
   ]
  },
  {
   "cell_type": "code",
   "execution_count": null,
   "id": "e73f6ed6",
   "metadata": {},
   "outputs": [],
   "source": []
  }
 ],
 "metadata": {
  "kernelspec": {
   "display_name": "api",
   "language": "python",
   "name": "api"
  },
  "language_info": {
   "codemirror_mode": {
    "name": "ipython",
    "version": 3
   },
   "file_extension": ".py",
   "mimetype": "text/x-python",
   "name": "python",
   "nbconvert_exporter": "python",
   "pygments_lexer": "ipython3",
   "version": "3.12.9"
  }
 },
 "nbformat": 4,
 "nbformat_minor": 5
}
